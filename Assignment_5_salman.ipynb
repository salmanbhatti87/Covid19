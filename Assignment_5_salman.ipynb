{
  "nbformat": 4,
  "nbformat_minor": 0,
  "metadata": {
    "colab": {
      "provenance": []
    },
    "kernelspec": {
      "name": "python3",
      "display_name": "Python 3"
    },
    "language_info": {
      "name": "python"
    }
  },
  "cells": [
    {
      "cell_type": "markdown",
      "source": [
        "Assignment 05: Python Crash Course Practice (Chapters 1–4)\n",
        "\n",
        "📘 Based on “Python Crash Course” by Eric Matthes"
      ],
      "metadata": {
        "id": "SUjUF1TQSjOJ"
      }
    },
    {
      "cell_type": "markdown",
      "source": [
        "Question 01: Palindrome Check"
      ],
      "metadata": {
        "id": "ZH3NT-hmSpq3"
      }
    },
    {
      "cell_type": "code",
      "source": [
        "word = \"madam\"\n",
        "print(\"Original word:\", word)\n",
        "\n",
        "reversed_word = word[::-1]\n",
        "print(\"Reversed word:\", reversed_word)\n",
        "\n",
        "print(\"Is it a palindrome?\")\n",
        "print(word == reversed_word)\n"
      ],
      "metadata": {
        "colab": {
          "base_uri": "https://localhost:8080/"
        },
        "id": "5WvwkpuYSqqH",
        "outputId": "dd5fa466-fe8e-4781-8419-1fe59338e99b"
      },
      "execution_count": 1,
      "outputs": [
        {
          "output_type": "stream",
          "name": "stdout",
          "text": [
            "Original word: madam\n",
            "Reversed word: madam\n",
            "Is it a palindrome?\n",
            "True\n"
          ]
        }
      ]
    },
    {
      "cell_type": "markdown",
      "source": [
        "Question 02: Formatted Table\n"
      ],
      "metadata": {
        "id": "1sjvrvtASzW-"
      }
    },
    {
      "cell_type": "code",
      "source": [
        "items = [(\"Pen\", 10.5), (\"Notebook\", 45.0), (\"Bag\", 850.0)]\n",
        "print(\"Items List:\", items)\n",
        "print(\"\\nSerial\\tItem\\t\\tPrice\")\n",
        "serial = 1\n",
        "for item in items:\n",
        "    print(str(serial) + \"\\t\" + item[0] + \"\\t\\t\" + str(item[1]))\n",
        "    serial = serial + 1\n"
      ],
      "metadata": {
        "colab": {
          "base_uri": "https://localhost:8080/"
        },
        "id": "UasJ65b6TERP",
        "outputId": "2c19c185-7949-4146-fdc9-90f173acb317"
      },
      "execution_count": 2,
      "outputs": [
        {
          "output_type": "stream",
          "name": "stdout",
          "text": [
            "Items List: [('Pen', 10.5), ('Notebook', 45.0), ('Bag', 850.0)]\n",
            "\n",
            "Serial\tItem\t\tPrice\n",
            "1\tPen\t\t10.5\n",
            "2\tNotebook\t\t45.0\n",
            "3\tBag\t\t850.0\n"
          ]
        }
      ]
    },
    {
      "cell_type": "markdown",
      "source": [
        "Question 03: Vowel Counter"
      ],
      "metadata": {
        "id": "tBMhMpZVT-AU"
      }
    },
    {
      "cell_type": "code",
      "source": [
        "sentence = \"Python is Amazing\"\n",
        "print(\"Original sentence:\", sentence)\n",
        "\n",
        "vowels = \"aeiouAEIOU\"\n",
        "count = 0\n",
        "for letter in sentence:\n",
        "    if letter in vowels:\n",
        "        count = count + 1\n",
        "\n",
        "print(\"Total vowels:\", count)"
      ],
      "metadata": {
        "colab": {
          "base_uri": "https://localhost:8080/"
        },
        "id": "mYpHg_ZaUO51",
        "outputId": "95cf9ae6-3683-4fd6-9496-00a9122572f3"
      },
      "execution_count": 3,
      "outputs": [
        {
          "output_type": "stream",
          "name": "stdout",
          "text": [
            "Original sentence: Python is Amazing\n",
            "Total vowels: 5\n"
          ]
        }
      ]
    },
    {
      "cell_type": "markdown",
      "source": [
        "Question 04: Discount Calculator"
      ],
      "metadata": {
        "id": "c1t63RieUjf-"
      }
    },
    {
      "cell_type": "code",
      "source": [
        "prices = [19.99, 5.50, 100.0]\n",
        "discounted = []\n",
        "\n",
        "for price in prices:\n",
        "    new_price = price - (price * 0.15)\n",
        "    discounted.append(new_price)\n",
        "\n",
        "print(\"Original Prices:\", prices)\n",
        "print(\"Discounted Prices:\", discounted)\n",
        "\n",
        "print(\"\\nOriginal\\tDiscounted\")\n",
        "for i in range(3):\n",
        "    print(str(prices[i]) + \"\\t\\t\" + str(discounted[i]))"
      ],
      "metadata": {
        "colab": {
          "base_uri": "https://localhost:8080/"
        },
        "id": "4dy5EoRrUm8_",
        "outputId": "8e477978-af56-4ee5-c0f8-f72ffc6f241a"
      },
      "execution_count": 4,
      "outputs": [
        {
          "output_type": "stream",
          "name": "stdout",
          "text": [
            "Original Prices: [19.99, 5.5, 100.0]\n",
            "Discounted Prices: [16.9915, 4.675, 85.0]\n",
            "\n",
            "Original\tDiscounted\n",
            "19.99\t\t16.9915\n",
            "5.5\t\t4.675\n",
            "100.0\t\t85.0\n"
          ]
        }
      ]
    },
    {
      "cell_type": "markdown",
      "source": [
        "Question 05: Phone Number Formatter"
      ],
      "metadata": {
        "id": "evb4lXnuUtdk"
      }
    },
    {
      "cell_type": "code",
      "source": [
        "numbers = [\"03123456789\", \"03001234567\"]\n",
        "print(\"Original\\tFormatted\")\n",
        "\n",
        "for number in numbers:\n",
        "    formatted = \"+92-\" + number[1:4] + \"-\" + number[4:]\n",
        "    print(number + \"\\t\" + formatted)"
      ],
      "metadata": {
        "colab": {
          "base_uri": "https://localhost:8080/"
        },
        "id": "N8yXx1ylU1mV",
        "outputId": "47036bc7-fb9b-4121-a459-d5a5e54f518e"
      },
      "execution_count": 5,
      "outputs": [
        {
          "output_type": "stream",
          "name": "stdout",
          "text": [
            "Original\tFormatted\n",
            "03123456789\t+92-312-3456789\n",
            "03001234567\t+92-300-1234567\n"
          ]
        }
      ]
    },
    {
      "cell_type": "markdown",
      "source": [
        "Question 06: Score Statistics"
      ],
      "metadata": {
        "id": "EkIz3l4-X2jC"
      }
    },
    {
      "cell_type": "code",
      "source": [
        "scores = (72, 85, 91, 58, 76)\n",
        "print(\"Original Tuple:\", scores)\n",
        "\n",
        "score_list = list(scores)\n",
        "print(\"Converted List:\", score_list)\n",
        "\n",
        "total = 0\n",
        "for score in score_list:\n",
        "    total = total + score\n",
        "\n",
        "average = total / len(score_list)\n",
        "\n",
        "print(\"Minimum Score:\", min(score_list))\n",
        "print(\"Maximum Score:\", max(score_list))\n",
        "print(\"Average Score:\", average)\n"
      ],
      "metadata": {
        "id": "wYK2dBnHX-yv",
        "outputId": "aa6bdd1a-ecee-4c39-80cf-91891eaf26b3",
        "colab": {
          "base_uri": "https://localhost:8080/"
        }
      },
      "execution_count": 6,
      "outputs": [
        {
          "output_type": "stream",
          "name": "stdout",
          "text": [
            "Original Tuple: (72, 85, 91, 58, 76)\n",
            "Converted List: [72, 85, 91, 58, 76]\n",
            "Minimum Score: 58\n",
            "Maximum Score: 91\n",
            "Average Score: 76.4\n"
          ]
        }
      ]
    },
    {
      "cell_type": "markdown",
      "source": [
        "Question 07: Reverse Each Word in Sentence"
      ],
      "metadata": {
        "id": "cM72km5aYNEh"
      }
    },
    {
      "cell_type": "code",
      "source": [
        "sentence = \"Python is fun\"\n",
        "print(\"Original Sentence:\", sentence)\n",
        "\n",
        "words = sentence.split()\n",
        "reversed_words = []\n",
        "\n",
        "for word in words:\n",
        "    reversed_words.append(word[::-1])\n",
        "\n",
        "print(\"Reversed Words Sentence:\", \" \".join(reversed_words))"
      ],
      "metadata": {
        "id": "1dFLO97TYUNz",
        "outputId": "20ebdc20-5058-46a9-e1ef-77f86f6c7789",
        "colab": {
          "base_uri": "https://localhost:8080/"
        }
      },
      "execution_count": 7,
      "outputs": [
        {
          "output_type": "stream",
          "name": "stdout",
          "text": [
            "Original Sentence: Python is fun\n",
            "Reversed Words Sentence: nohtyP si nuf\n"
          ]
        }
      ]
    },
    {
      "cell_type": "markdown",
      "source": [
        "Question 08: Running Sum List"
      ],
      "metadata": {
        "id": "T_dAppfgYrQU"
      }
    },
    {
      "cell_type": "code",
      "source": [
        "nums = [1, 2, 3, 4, 5]\n",
        "print(\"Original List:\", nums)\n",
        "\n",
        "running_sum = []\n",
        "total = 0\n",
        "\n",
        "for num in nums:\n",
        "    total = total + num\n",
        "    running_sum.append(total)\n",
        "\n",
        "print(\"Running Sum List:\", running_sum)"
      ],
      "metadata": {
        "id": "QsiNvyxIYtmx",
        "outputId": "b2f65db0-02a9-4349-9e5e-1bd3badee454",
        "colab": {
          "base_uri": "https://localhost:8080/"
        }
      },
      "execution_count": 8,
      "outputs": [
        {
          "output_type": "stream",
          "name": "stdout",
          "text": [
            "Original List: [1, 2, 3, 4, 5]\n",
            "Running Sum List: [1, 3, 6, 10, 15]\n"
          ]
        }
      ]
    },
    {
      "cell_type": "markdown",
      "source": [
        "Question 09: Interleave Two Lists"
      ],
      "metadata": {
        "id": "02AybvKSZp6l"
      }
    },
    {
      "cell_type": "code",
      "source": [
        "list1 = [1, 2, 3]\n",
        "list2 = ['a', 'b', 'c']\n",
        "combined = []\n",
        "\n",
        "for i in range(len(list1)):\n",
        "    combined.append(list1[i])\n",
        "    combined.append(list2[i])\n",
        "\n",
        "print(\"List 1:\", list1)\n",
        "print(\"List 2:\", list2)\n",
        "print(\"Combined List:\", combined)"
      ],
      "metadata": {
        "id": "6Acgehg1ZsLr",
        "outputId": "79d71f51-fb85-4a86-93ff-3a4ee74a5521",
        "colab": {
          "base_uri": "https://localhost:8080/"
        }
      },
      "execution_count": 9,
      "outputs": [
        {
          "output_type": "stream",
          "name": "stdout",
          "text": [
            "List 1: [1, 2, 3]\n",
            "List 2: ['a', 'b', 'c']\n",
            "Combined List: [1, 'a', 2, 'b', 3, 'c']\n"
          ]
        }
      ]
    },
    {
      "cell_type": "markdown",
      "source": [
        "Question 10: Repeat Letters"
      ],
      "metadata": {
        "id": "zMf78VJpZ-St"
      }
    },
    {
      "cell_type": "code",
      "source": [
        "text = \"Hello\"\n",
        "print(\"Original String:\", text)\n",
        "\n",
        "new_text = \"\"\n",
        "for char in text:\n",
        "    new_text = new_text + char + char\n",
        "\n",
        "print(\"Doubled Letters:\", new_text)"
      ],
      "metadata": {
        "id": "HlKwvy6CaA0d",
        "outputId": "c6f83254-0b63-470e-d325-945170c16f02",
        "colab": {
          "base_uri": "https://localhost:8080/"
        }
      },
      "execution_count": 10,
      "outputs": [
        {
          "output_type": "stream",
          "name": "stdout",
          "text": [
            "Original String: Hello\n",
            "Doubled Letters: HHeelllloo\n"
          ]
        }
      ]
    }
  ]
}