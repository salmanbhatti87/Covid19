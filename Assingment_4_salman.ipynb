{
  "nbformat": 4,
  "nbformat_minor": 0,
  "metadata": {
    "colab": {
      "provenance": []
    },
    "kernelspec": {
      "name": "python3",
      "display_name": "Python 3"
    },
    "language_info": {
      "name": "python"
    }
  },
  "cells": [
    {
      "cell_type": "markdown",
      "source": [
        "Assignment 04: Python Crash Course Practice (Chapters 2 - 4)\n",
        "\n",
        "📘 Based on Python Crash Course by Eric Matthes (Chapters 2 to 4)\n"
      ],
      "metadata": {
        "id": "lwbnUI7k0aKQ"
      }
    },
    {
      "cell_type": "markdown",
      "source": [
        "Part 1: Variables & Input"
      ],
      "metadata": {
        "id": "EWbfwZAB0kmu"
      }
    },
    {
      "cell_type": "markdown",
      "source": [
        "Q1. Favorite Movie Intro\n",
        "Ask the user for:\n",
        "\n",
        "Their name\n",
        "Their favorite movie\n",
        "Print a sentence like: Ali’s favorite movie is Interstellar."
      ],
      "metadata": {
        "id": "8gOJXd8H0vTo"
      }
    },
    {
      "cell_type": "code",
      "source": [
        "name=input(\"What is your name? \")\n",
        "movie=input(\"What is your favorite movie? \")\n",
        "print(name + \"'s favorite movie is \" + movie + \".\")\n",
        "#"
      ],
      "metadata": {
        "colab": {
          "base_uri": "https://localhost:8080/"
        },
        "id": "PsO7FWrg0qvj",
        "outputId": "680562a9-6c84-4c1f-e57e-f886fcc516d8"
      },
      "execution_count": 1,
      "outputs": [
        {
          "output_type": "stream",
          "name": "stdout",
          "text": [
            "What is your name? Bhatti\n",
            "What is your favorite movie? The Message\n",
            "Bhatti's favorite movie is The Message.\n"
          ]
        }
      ]
    },
    {
      "cell_type": "markdown",
      "source": [
        "Q2. Case Converter\n",
        "\n",
        "Ask the user to enter a word.\n",
        "\n",
        "Print:\n",
        "\n",
        "The word in uppercase\n",
        "\n",
        "The word in lowercase\n",
        "\n",
        "The word in title case"
      ],
      "metadata": {
        "id": "3BiIq2oZ1Pub"
      }
    },
    {
      "cell_type": "code",
      "source": [
        "word=input(\"Enter a word: \")\n",
        "print(f'the {word} is in uppercase \"{word.upper()}\"')\n",
        "print(f'the {word} is in lowercase \"{word.lower()}\"')\n",
        "print(f'the {word} is in titlecase \"{word.title()}\"')"
      ],
      "metadata": {
        "colab": {
          "base_uri": "https://localhost:8080/"
        },
        "id": "5AgiN22o1V0u",
        "outputId": "4c9cd7bc-15d9-4eed-fe8e-0992449fc1f4"
      },
      "execution_count": 2,
      "outputs": [
        {
          "output_type": "stream",
          "name": "stdout",
          "text": [
            "Enter a word: watan\n",
            "the watan is in uppercase \"WATAN\"\n",
            "the watan is in lowercase \"watan\"\n",
            "the watan is in titlecase \"Watan\"\n"
          ]
        }
      ]
    },
    {
      "cell_type": "markdown",
      "source": [
        "Q3. Simple Math with Input\n",
        "\n",
        "Ask the user to input two numbers using input()\n",
        "\n",
        "Convert them to int or float\n",
        "\n",
        "Print:\n",
        "\n",
        "Sum\n",
        "\n",
        "Difference\n",
        "\n",
        "Product\n",
        "\n",
        "Quotient"
      ],
      "metadata": {
        "id": "GL_289Hj2Oo6"
      }
    },
    {
      "cell_type": "code",
      "source": [
        "num1=input(\"Enter a number: \")\n",
        "num2=input(\"Enter another number: \")\n",
        "num1=float(num1)\n",
        "num2=float(num2)\n",
        "print(f'The sum of {num1} and {num2} is {num1+num2}')\n",
        "print(f'The difference of {num1} and {num2} is {num1-num2}')\n",
        "print(f'The product of {num1} and {num2} is {num1*num2}')\n",
        "print(f'The quotient of {num1} and {num2} is {num1/num2}')"
      ],
      "metadata": {
        "colab": {
          "base_uri": "https://localhost:8080/"
        },
        "id": "5gdz9dvO2Wqy",
        "outputId": "fba2f113-1547-4e77-9918-010427649e71"
      },
      "execution_count": 3,
      "outputs": [
        {
          "output_type": "stream",
          "name": "stdout",
          "text": [
            "Enter a number: 30\n",
            "Enter another number: 5\n",
            "The sum of 30.0 and 5.0 is 35.0\n",
            "The difference of 30.0 and 5.0 is 25.0\n",
            "The product of 30.0 and 5.0 is 150.0\n",
            "The quotient of 30.0 and 5.0 is 6.0\n"
          ]
        }
      ]
    },
    {
      "cell_type": "markdown",
      "source": [
        "Part 2: Lists & Indexing"
      ],
      "metadata": {
        "id": "U8csfiNH3GN6"
      }
    },
    {
      "cell_type": "markdown",
      "source": [
        "Q4. My Friends List\n",
        "\n",
        "Create a list of 4 friends’ names.\n",
        "\n",
        "Print each name using a for loop."
      ],
      "metadata": {
        "id": "r8Xyyywq3MPe"
      }
    },
    {
      "cell_type": "code",
      "source": [
        "names=['Ali','Amjad','Usama','Usman']\n",
        "for name in names:\n",
        "  print(name)\n",
        "#"
      ],
      "metadata": {
        "colab": {
          "base_uri": "https://localhost:8080/"
        },
        "id": "eeY3SR-K3HSw",
        "outputId": "4c14b1ce-0e93-4c50-96b4-d6eeaa43db66"
      },
      "execution_count": 4,
      "outputs": [
        {
          "output_type": "stream",
          "name": "stdout",
          "text": [
            "Ali\n",
            "Amjad\n",
            "Usama\n",
            "Usman\n"
          ]
        }
      ]
    },
    {
      "cell_type": "markdown",
      "source": [
        "Q5. Update Your List\n",
        "\n",
        "Create a list of 3 favorite fruits.\n",
        "\n",
        "Replace the second fruit with another.\n",
        "\n",
        "Add one fruit to the end using .append().\n",
        "\n",
        "Add one to the beginning using .insert(0, ...).\n",
        "\n",
        "Print the list after each change."
      ],
      "metadata": {
        "id": "PEbvYEXA3uFt"
      }
    },
    {
      "cell_type": "code",
      "source": [
        "fruits=['Apple','Peach','Grapes']\n",
        "print(fruits)\n",
        "fruits[1]='Mango'\n",
        "print(fruits)\n",
        "fruits.append('Banana')\n",
        "print(fruits)\n",
        "fruits.insert(0,'Orange')\n",
        "print(fruits)\n",
        "#"
      ],
      "metadata": {
        "colab": {
          "base_uri": "https://localhost:8080/"
        },
        "id": "yZ493J-g4Kho",
        "outputId": "873e7fd7-0969-4eb0-f43c-249d9f80759d"
      },
      "execution_count": 5,
      "outputs": [
        {
          "output_type": "stream",
          "name": "stdout",
          "text": [
            "['Apple', 'Peach', 'Grapes']\n",
            "['Apple', 'Mango', 'Grapes']\n",
            "['Apple', 'Mango', 'Grapes', 'Banana']\n",
            "['Orange', 'Apple', 'Mango', 'Grapes', 'Banana']\n"
          ]
        }
      ]
    },
    {
      "cell_type": "markdown",
      "source": [
        "Q6. List Length Reporter\n",
        "\n",
        "Ask the user to enter 5 favorite animals (use input()).\n",
        "\n",
        "Store each animal in a list.\n",
        "\n",
        "After collecting:\n",
        "\n",
        "Print the total number of animals using len()\n",
        "\n",
        "Print the first and last animal using indexing\n"
      ],
      "metadata": {
        "id": "eV17UjT85UMw"
      }
    },
    {
      "cell_type": "code",
      "source": [
        "print(\"Enter 5 favorite animals:\")\n",
        "animals=[]\n",
        "for i in range(5):\n",
        "  animal=input()\n",
        "  animals.append(animal)\n",
        "print(f'The total number of animals is {len(animals)}')\n",
        "print(f'The first animal is {animals[0]}')\n",
        "print(f'The last animal is {animals[-1]}')"
      ],
      "metadata": {
        "colab": {
          "base_uri": "https://localhost:8080/"
        },
        "id": "JLSrkme15nwH",
        "outputId": "8f3136ad-0e5d-47dc-c027-47e90011fd80"
      },
      "execution_count": 6,
      "outputs": [
        {
          "output_type": "stream",
          "name": "stdout",
          "text": [
            "Enter 5 favorite animals:\n",
            "lion\n",
            "cheeta\n",
            "monkey\n",
            "dog\n",
            "cat\n",
            "The total number of animals is 5\n",
            "The first animal is lion\n",
            "The last animal is cat\n"
          ]
        }
      ]
    },
    {
      "cell_type": "markdown",
      "source": [
        "Part 3: For Loops & Ranges"
      ],
      "metadata": {
        "id": "-7W1nZP26W8s"
      }
    },
    {
      "cell_type": "markdown",
      "source": [
        "Q7. Print Numbers\n",
        "\n",
        "Use range() and for loop to:\n",
        "\n",
        "Print numbers from 1 to 10\n",
        "\n",
        "Print even numbers from 2 to 20\n",
        "\n",
        "Print multiples of 5 from 5 to 50"
      ],
      "metadata": {
        "id": "YoiOX2KG6cpb"
      }
    },
    {
      "cell_type": "code",
      "source": [
        "print(f'The numbers from 1 to 10:\\n')\n",
        "for i in range(1,11):\n",
        "  print(f'{i}\\n')\n",
        "print(f'The even numbers from 2 to 20:\\n')\n",
        "for i in range(2,21,2):\n",
        "  print(f'{i}\\n')\n",
        "print(f'The multiples of 5 from 5 to 50:\\n')\n",
        "for i in (range(5,51,5)):\n",
        "  print(f'{i}')"
      ],
      "metadata": {
        "colab": {
          "base_uri": "https://localhost:8080/"
        },
        "id": "hmN-2AaR6ksH",
        "outputId": "428c3aa1-6cdb-4e7e-fe20-54798d691293"
      },
      "execution_count": 13,
      "outputs": [
        {
          "output_type": "stream",
          "name": "stdout",
          "text": [
            "The numbers from 1 to 10:\n",
            "\n",
            "1\n",
            "\n",
            "2\n",
            "\n",
            "3\n",
            "\n",
            "4\n",
            "\n",
            "5\n",
            "\n",
            "6\n",
            "\n",
            "7\n",
            "\n",
            "8\n",
            "\n",
            "9\n",
            "\n",
            "10\n",
            "\n",
            "The even numbers from 2 to 20:\n",
            "\n",
            "2\n",
            "\n",
            "4\n",
            "\n",
            "6\n",
            "\n",
            "8\n",
            "\n",
            "10\n",
            "\n",
            "12\n",
            "\n",
            "14\n",
            "\n",
            "16\n",
            "\n",
            "18\n",
            "\n",
            "20\n",
            "\n",
            "The multiples of 5 from 5 to 50:\n",
            "\n",
            "5\n",
            "10\n",
            "15\n",
            "20\n",
            "25\n",
            "30\n",
            "35\n",
            "40\n",
            "45\n",
            "50\n"
          ]
        }
      ]
    },
    {
      "cell_type": "markdown",
      "source": [
        "Q8. Squares Table\n",
        "\n",
        "Use a for loop to print square numbers from 1 to 10:"
      ],
      "metadata": {
        "id": "FDXPV4EK81o7"
      }
    },
    {
      "cell_type": "code",
      "source": [
        "for i in range(1,11):\n",
        "  print(f'The square of {i} is {i**2}')\n",
        "#"
      ],
      "metadata": {
        "colab": {
          "base_uri": "https://localhost:8080/"
        },
        "id": "fj7AfFiu83nI",
        "outputId": "582bbe14-0f7a-4763-b608-8a6b33f6f523"
      },
      "execution_count": 15,
      "outputs": [
        {
          "output_type": "stream",
          "name": "stdout",
          "text": [
            "The square of 1 is 1\n",
            "The square of 2 is 4\n",
            "The square of 3 is 9\n",
            "The square of 4 is 16\n",
            "The square of 5 is 25\n",
            "The square of 6 is 36\n",
            "The square of 7 is 49\n",
            "The square of 8 is 64\n",
            "The square of 9 is 81\n",
            "The square of 10 is 100\n"
          ]
        }
      ]
    },
    {
      "cell_type": "markdown",
      "source": [
        "Part 4: List Comprehension & Slicing"
      ],
      "metadata": {
        "id": "4NnpCotW9Pct"
      }
    },
    {
      "cell_type": "markdown",
      "source": [
        "Q9. Make a List of Cubes\n",
        "\n",
        "Use list comprehension to generate cubes of numbers 1–5.\n",
        "\n",
        "Print the list."
      ],
      "metadata": {
        "id": "bQ5z2yYL9R4N"
      }
    },
    {
      "cell_type": "code",
      "source": [
        "print([i*i*i for i in range(1,6)])"
      ],
      "metadata": {
        "colab": {
          "base_uri": "https://localhost:8080/"
        },
        "id": "5nEwJLiJ9ZEN",
        "outputId": "b5a1df44-e002-45fa-c082-6a3641bfc660"
      },
      "execution_count": 16,
      "outputs": [
        {
          "output_type": "stream",
          "name": "stdout",
          "text": [
            "[1, 8, 27, 64, 125]\n"
          ]
        }
      ]
    },
    {
      "cell_type": "markdown",
      "source": [
        "Q10. Top 3 Movies\n",
        "\n",
        "Ask the user to enter 5 movie names using input().\n",
        "\n",
        "Store them in a list.\n",
        "\n",
        "Print:\n",
        "\n",
        "The first 3 movies using slicing\n",
        "\n",
        "The last 2 movies using slicing\n"
      ],
      "metadata": {
        "id": "sESglYT397qe"
      }
    },
    {
      "cell_type": "code",
      "source": [
        "print(\"Enter 5 movie names:\")\n",
        "movies=[]\n",
        "for i in range(5):\n",
        "  movie=input()\n",
        "  movies.append(movie)\n",
        "print(f'The first 3 movies are {movies[:3]}')\n",
        "print(f'The last 2 movies are {movies[-2:]}')"
      ],
      "metadata": {
        "colab": {
          "base_uri": "https://localhost:8080/"
        },
        "id": "OFX1J4Fg9_ny",
        "outputId": "a659abaf-5d73-4ea3-bbff-37b8d4ccdaca"
      },
      "execution_count": 17,
      "outputs": [
        {
          "output_type": "stream",
          "name": "stdout",
          "text": [
            "Enter 5 movie names:\n",
            "abc\n",
            "cde\n",
            "yhg\n",
            "uyt\n",
            "fgh\n",
            "The first 3 movies are ['abc', 'cde', 'yhg']\n",
            "The last 2 movies are ['uyt', 'fgh']\n"
          ]
        }
      ]
    },
    {
      "cell_type": "markdown",
      "source": [
        "Q11. 🧑‍🏫 Top Students\n",
        "\n",
        "Ask the user to enter names of 5 students using input() (one by one).\n",
        "\n",
        "Store the names in a list.\n",
        "\n",
        "Then:\n",
        "\n",
        "Print a greeting for each student using a for loop.\n",
        "\n",
        "Print only the top 3 students using slicing.\n",
        "\n",
        "Copy the list using [:], then:\n",
        "\n",
        "Add 2 new names to the copied list using .append()\n",
        "\n",
        "Print both the original and the new list to show that the original is unchanged."
      ],
      "metadata": {
        "id": "H8yDTVe5-1cN"
      }
    },
    {
      "cell_type": "code",
      "source": [
        "print('Enter names of 5 students:')\n",
        "students=[]\n",
        "for i in range(5):\n",
        "  student=input()\n",
        "  students.append(student)\n",
        "for student in students:\n",
        "  print(f'Hello {student}')\n",
        "  print(f'Your name is {len(student)} characters long')\n",
        "print(f'The top 3 students are {students[:3]}')\n",
        "students_copy=students[:]\n",
        "students_copy.append('Ali')\n",
        "students_copy.append('Amjad')\n",
        "print(f'The original list is {students}')\n",
        "print(f'The copied list is {students_copy}')\n",
        "#"
      ],
      "metadata": {
        "colab": {
          "base_uri": "https://localhost:8080/"
        },
        "id": "ayLsS7q7_A11",
        "outputId": "7dae06b7-1275-4b66-eae6-9dfa043712a6"
      },
      "execution_count": 18,
      "outputs": [
        {
          "output_type": "stream",
          "name": "stdout",
          "text": [
            "Enter names of 5 students:\n",
            "salman\n",
            "khurram\n",
            "aneeq\n",
            "shafiq\n",
            "iqbal\n",
            "Hello salman\n",
            "Your name is 6 characters long\n",
            "Hello khurram\n",
            "Your name is 7 characters long\n",
            "Hello aneeq\n",
            "Your name is 5 characters long\n",
            "Hello shafiq\n",
            "Your name is 6 characters long\n",
            "Hello iqbal\n",
            "Your name is 5 characters long\n",
            "The top 3 students are ['salman', 'khurram', 'aneeq']\n",
            "The original list is ['salman', 'khurram', 'aneeq', 'shafiq', 'iqbal']\n",
            "The copied list is ['salman', 'khurram', 'aneeq', 'shafiq', 'iqbal', 'Ali', 'Amjad']\n"
          ]
        }
      ]
    },
    {
      "cell_type": "markdown",
      "source": [
        "Q12. ✈️ Travel Wishlist\n",
        "\n",
        "Create a list of 5 places you want to visit.\n",
        "\n",
        "Print the original list.\n",
        "\n",
        "Print a temporarily sorted list using sorted().\n",
        "\n",
        "Sort the list in reverse alphabetical order using .sort(reverse=True).\n",
        "\n",
        "Use .reverse() twice:\n",
        "\n",
        "First to flip and print the list\n",
        "\n",
        "Then to flip it back and print again"
      ],
      "metadata": {
        "id": "PsfXHa_2NwOq"
      }
    },
    {
      "cell_type": "code",
      "source": [
        "places=['RWP','KAR','ISL','FSD','LHR']\n",
        "print(f'The original list is {places}')\n",
        "print(f'The sorted list is {sorted(places)}')\n",
        "places.sort(reverse=True)\n",
        "print(f'The sorted list is {places}')"
      ],
      "metadata": {
        "colab": {
          "base_uri": "https://localhost:8080/"
        },
        "id": "KasyBQ74NBKI",
        "outputId": "1a006cad-9cdf-4503-9d98-e58b12dea491"
      },
      "execution_count": 19,
      "outputs": [
        {
          "output_type": "stream",
          "name": "stdout",
          "text": [
            "The original list is ['RWP', 'KAR', 'ISL', 'FSD', 'LHR']\n",
            "The sorted list is ['FSD', 'ISL', 'KAR', 'LHR', 'RWP']\n",
            "The sorted list is ['RWP', 'LHR', 'KAR', 'ISL', 'FSD']\n"
          ]
        }
      ]
    },
    {
      "cell_type": "markdown",
      "source": [
        "Mini Challenge: Name Art Generator\n",
        "\n",
        "Combine your understanding of input, lists, string slicing, for loops, and list length.\n",
        "\n",
        "🧩 Task:\n",
        "\n",
        "Ask the user to enter their name.\n",
        "\n",
        "Convert the name to a list of characters.\n",
        "\n",
        "Print each character on a new line using a for loop.\n",
        "\n",
        "Then print:\n",
        "\n",
        "The first 3 letters\n",
        "\n",
        "The last 2 letters\n",
        "\n",
        "The total number of letters using len()"
      ],
      "metadata": {
        "id": "KziHSbD0OtXf"
      }
    },
    {
      "cell_type": "code",
      "source": [
        "print(\"Enter your name:\")\n",
        "name=input()\n",
        "name_list=list(name)\n",
        "for letter in name_list:\n",
        "  print(letter)\n",
        "print(f'The first 3 letters are {name_list[:3]}')\n",
        "print(f'The last 2 letters are {name_list[-2:]}')\n",
        "print(f'The total number of letters is {len(name_list)}')"
      ],
      "metadata": {
        "colab": {
          "base_uri": "https://localhost:8080/"
        },
        "id": "7h3wW_NDO8fN",
        "outputId": "297543b6-97b8-4be5-f902-3d7a825020da"
      },
      "execution_count": 21,
      "outputs": [
        {
          "output_type": "stream",
          "name": "stdout",
          "text": [
            "Enter your name:\n",
            "iqbal\n",
            "i\n",
            "q\n",
            "b\n",
            "a\n",
            "l\n",
            "The first 3 letters are ['i', 'q', 'b']\n",
            "The last 2 letters are ['a', 'l']\n",
            "The total number of letters is 5\n"
          ]
        }
      ]
    }
  ]
}